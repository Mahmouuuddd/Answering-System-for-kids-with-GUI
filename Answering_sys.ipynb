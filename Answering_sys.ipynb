{
 "cells": [
  {
   "cell_type": "markdown",
   "metadata": {},
   "source": [
    "# Answering System for kids with GUI\n",
    "Using winsound & wx libraries"
   ]
  },
  {
   "cell_type": "code",
   "execution_count": null,
   "metadata": {},
   "outputs": [],
   "source": [
    "pip install wxPython"
   ]
  },
  {
   "cell_type": "code",
   "execution_count": null,
   "metadata": {},
   "outputs": [],
   "source": [
    "import wx\n",
    "import winsound"
   ]
  },
  {
   "cell_type": "markdown",
   "metadata": {},
   "source": [
    "wxpython: is a GUI toolkit for the Python language\n",
    "\n",
    "winsound: The winsound module provides access to the basic sound-playing machinery provided by Windows platforms"
   ]
  },
  {
   "cell_type": "code",
   "execution_count": null,
   "metadata": {},
   "outputs": [],
   "source": [
    "#List of English letters\n",
    "enletters = ['a', 'b', 'c', 'd', 'e', 'f', 'g', 'h', 'i', 'j', 'k', 'l', 'm', 'n', 'o', 'p', 'q',\n",
    "             'r', 's', 't', 'u', 'v', 'w', 'x', 'y', 'z']"
   ]
  },
  {
   "cell_type": "code",
   "execution_count": null,
   "metadata": {},
   "outputs": [],
   "source": [
    "# Frame for the second page where the user learns English letters\n",
    "class lten(wx.Frame):\n",
    "    def __init__(self, parent, first_frame):\n",
    "        super(lten, self).__init__(parent, -1, title='النظام التعليمي, الأحرف الإنجليزية المرتبة')\n",
    "        self.first_frame = first_frame\n",
    "        self.p = wx.Panel(self, -1)\n",
    "        self.Center()\n",
    "        self.lettern = 0\n",
    "        self.letter = enletters[self.lettern]\n",
    "\n",
    "        sizer_1 = wx.BoxSizer(wx.VERTICAL)\n",
    "        sizer_2 = wx.BoxSizer(wx.HORIZONTAL)\n",
    "        \n",
    "        # Button to go back to the school page\n",
    "        self.back_to_school_button = wx.Button(self.p, -1, 'العودة الي البداية ')\n",
    "        self.back_to_school_button.Bind(wx.EVT_BUTTON, self.on_back_to_school)\n",
    "        sizer_1.Add(self.back_to_school_button, 0, wx.ALIGN_RIGHT)\n",
    "\n",
    "        label_1 = wx.StaticText(self.p, -1, \"الإجابات: \")\n",
    "        sizer_2.Add(label_1)\n",
    "        \n",
    "        # TextCtrl to display answers with rich text formatting\n",
    "        self.verify = wx.TextCtrl(self.p, -1, style=wx.TE_READONLY | wx.TE_MULTILINE | wx.HSCROLL | wx.TE_RICH2)\n",
    "        sizer_2.Add(self.verify, 1, wx.EXPAND)\n",
    "        sizer_1.Add(sizer_2, 1, wx.EXPAND)\n",
    "\n",
    "        sizer_3 = wx.BoxSizer(wx.HORIZONTAL)\n",
    "        self.wt = wx.StaticText(self.p, -1, f\"اكتب حرف  {self.letter}  \")\n",
    "        sizer_3.Add(self.wt)\n",
    "        self.write = wx.TextCtrl(self.p, -1)\n",
    "        self.write.SetFocus()\n",
    "        sizer_3.Add(self.write)\n",
    "        sizer_1.Add(sizer_3)\n",
    "\n",
    "        self.send = wx.Button(self.p, -1, \"إرسال الإجابة\")\n",
    "        sizer_1.Add(self.send)\n",
    "        self.p.SetSizer(sizer_1)\n",
    "\n",
    "        self.send.Bind(wx.EVT_BUTTON, self.onsend)\n",
    "        self.Layout()\n",
    "        self.Show()\n",
    "\n",
    "    def onsend(self, event):\n",
    "        self.result = self.write.GetValue()\n",
    "        if self.result == self.letter:\n",
    "            self.verify.SetDefaultStyle(wx.TextAttr(wx.BLUE))\n",
    "            self.verify.write(f'صحيح {self.letter}\\n')\n",
    "            winsound.PlaySound('data\\\\yes.wav', winsound.SND_FILENAME) \n",
    "            if self.lettern == 25:\n",
    "                self.lettern = 0\n",
    "            else:\n",
    "                self.lettern += 1\n",
    "\n",
    "            self.letter = enletters[self.lettern]\n",
    "            self.wt.SetLabel(f\"اكتب حرف  {self.letter}  \")\n",
    "            self.write.SetFocus()\n",
    "            self.write.SetValue(\"\")\n",
    "\n",
    "        elif self.result != self.letter:\n",
    "            self.verify.SetDefaultStyle(wx.TextAttr(wx.RED))\n",
    "            self.verify.write(f'خطأ: المطلوب كتابته: {self.letter} , المكتوب: {self.result}\\n')\n",
    "            winsound.PlaySound('data\\\\no.wav', winsound.SND_FILENAME) \n",
    "            self.write.SetFocus()\n",
    "            self.write.SetValue(\"\")\n",
    "    \n",
    "    #This function is responsible for go back to the first page \"school page\"\n",
    "    def on_back_to_school(self, event):     \n",
    "        self.Hide()  \n",
    "        self.first_frame.Show()  \n",
    "\n"
   ]
  },
  {
   "cell_type": "code",
   "execution_count": null,
   "metadata": {},
   "outputs": [],
   "source": [
    "# Frame for the first page with a button to start learning English letters\n",
    "class school(wx.Frame):\n",
    "    def __init__(self, parent):\n",
    "        super(school, self).__init__(parent, -1, title='النظام التعليمي')\n",
    "        p = wx.Panel(self, -1)\n",
    "        self.Center()\n",
    "        \n",
    "        # Button to start learning English letters\n",
    "        self.aenl = wx.Button(p, -1, 'النظام التعليمي للحروف الإنجليزية, التدريب على الأحرف الانجليزية بالترتيب')\n",
    "        self.aenl.Bind(wx.EVT_BUTTON, self.onaenl)\n",
    "        \n",
    "        self.Show()\n",
    "        \n",
    "    def onaenl(self, event):\n",
    "        self.Hide()  \n",
    "        frame = lten(self, self)  \n",
    "        frame.Show()  "
   ]
  },
  {
   "cell_type": "code",
   "execution_count": null,
   "metadata": {},
   "outputs": [],
   "source": [
    "app = wx.App()\n",
    "main_frame = school(None)\n",
    "app.MainLoop()"
   ]
  },
  {
   "cell_type": "code",
   "execution_count": null,
   "metadata": {},
   "outputs": [],
   "source": []
  }
 ],
 "metadata": {
  "kernelspec": {
   "display_name": "Python 3",
   "language": "python",
   "name": "python3"
  },
  "language_info": {
   "codemirror_mode": {
    "name": "ipython",
    "version": 3
   },
   "file_extension": ".py",
   "mimetype": "text/x-python",
   "name": "python",
   "nbconvert_exporter": "python",
   "pygments_lexer": "ipython3",
   "version": "3.8.3"
  }
 },
 "nbformat": 4,
 "nbformat_minor": 4
}
